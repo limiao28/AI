{
 "cells": [
  {
   "cell_type": "markdown",
   "metadata": {},
   "source": [
    "## Assignment 4 (Intro to AI)"
   ]
  },
  {
   "cell_type": "markdown",
   "metadata": {},
   "source": [
    "Marks total is 12: Question 7 is worth 6 marks and the other questions are weighted equally (1 mark each)."
   ]
  },
  {
   "cell_type": "markdown",
   "metadata": {},
   "source": [
    "### Question 1: Dealing with data Pythonically"
   ]
  },
  {
   "cell_type": "code",
   "execution_count": 8,
   "metadata": {},
   "outputs": [],
   "source": [
    "# You might find these packages useful. You may import any others you want!\n",
    "import pandas as pd\n",
    "import numpy as np\n",
    "import matplotlib.pyplot as plt"
   ]
  },
  {
   "cell_type": "markdown",
   "metadata": {},
   "source": [
    "1\\. The file `\"data/ads_dataset.tsv\"` uses tabs instead of commas to separate fields. Load the data set `\"data/ads_dataset.tsv\"` into a Python `pandas` data frame called `ads`. If you are using the `read_csv()` function you will need to know that `\"\\t\"` means tab when trying to set the delimeter."
   ]
  },
  {
   "cell_type": "code",
   "execution_count": 9,
   "metadata": {},
   "outputs": [
    {
     "data": {
      "text/html": [
       "<div>\n",
       "<style scoped>\n",
       "    .dataframe tbody tr th:only-of-type {\n",
       "        vertical-align: middle;\n",
       "    }\n",
       "\n",
       "    .dataframe tbody tr th {\n",
       "        vertical-align: top;\n",
       "    }\n",
       "\n",
       "    .dataframe thead th {\n",
       "        text-align: right;\n",
       "    }\n",
       "</style>\n",
       "<table border=\"1\" class=\"dataframe\">\n",
       "  <thead>\n",
       "    <tr style=\"text-align: right;\">\n",
       "      <th></th>\n",
       "      <th>isbuyer</th>\n",
       "      <th>buy_freq</th>\n",
       "      <th>visit_freq</th>\n",
       "      <th>buy_interval</th>\n",
       "      <th>sv_interval</th>\n",
       "      <th>expected_time_buy</th>\n",
       "      <th>expected_time_visit</th>\n",
       "      <th>last_buy</th>\n",
       "      <th>last_visit</th>\n",
       "      <th>multiple_buy</th>\n",
       "      <th>multiple_visit</th>\n",
       "      <th>uniq_urls</th>\n",
       "      <th>num_checkins</th>\n",
       "      <th>y_buy</th>\n",
       "    </tr>\n",
       "  </thead>\n",
       "  <tbody>\n",
       "    <tr>\n",
       "      <th>NaN</th>\n",
       "      <td>0</td>\n",
       "      <td>NaN</td>\n",
       "      <td>1</td>\n",
       "      <td>0.0</td>\n",
       "      <td>0.0</td>\n",
       "      <td>0.0</td>\n",
       "      <td>0.0000</td>\n",
       "      <td>106</td>\n",
       "      <td>106</td>\n",
       "      <td>0</td>\n",
       "      <td>0</td>\n",
       "      <td>169</td>\n",
       "      <td>2130</td>\n",
       "      <td>0</td>\n",
       "    </tr>\n",
       "    <tr>\n",
       "      <th>NaN</th>\n",
       "      <td>0</td>\n",
       "      <td>NaN</td>\n",
       "      <td>1</td>\n",
       "      <td>0.0</td>\n",
       "      <td>0.0</td>\n",
       "      <td>0.0</td>\n",
       "      <td>0.0000</td>\n",
       "      <td>72</td>\n",
       "      <td>72</td>\n",
       "      <td>0</td>\n",
       "      <td>0</td>\n",
       "      <td>154</td>\n",
       "      <td>1100</td>\n",
       "      <td>0</td>\n",
       "    </tr>\n",
       "    <tr>\n",
       "      <th>NaN</th>\n",
       "      <td>0</td>\n",
       "      <td>NaN</td>\n",
       "      <td>1</td>\n",
       "      <td>0.0</td>\n",
       "      <td>0.0</td>\n",
       "      <td>0.0</td>\n",
       "      <td>0.0000</td>\n",
       "      <td>5</td>\n",
       "      <td>5</td>\n",
       "      <td>0</td>\n",
       "      <td>0</td>\n",
       "      <td>4</td>\n",
       "      <td>12</td>\n",
       "      <td>0</td>\n",
       "    </tr>\n",
       "    <tr>\n",
       "      <th>NaN</th>\n",
       "      <td>0</td>\n",
       "      <td>NaN</td>\n",
       "      <td>1</td>\n",
       "      <td>0.0</td>\n",
       "      <td>0.0</td>\n",
       "      <td>0.0</td>\n",
       "      <td>0.0000</td>\n",
       "      <td>6</td>\n",
       "      <td>6</td>\n",
       "      <td>0</td>\n",
       "      <td>0</td>\n",
       "      <td>150</td>\n",
       "      <td>539</td>\n",
       "      <td>0</td>\n",
       "    </tr>\n",
       "    <tr>\n",
       "      <th>NaN</th>\n",
       "      <td>0</td>\n",
       "      <td>NaN</td>\n",
       "      <td>2</td>\n",
       "      <td>0.0</td>\n",
       "      <td>0.5</td>\n",
       "      <td>0.0</td>\n",
       "      <td>-101.1493</td>\n",
       "      <td>101</td>\n",
       "      <td>101</td>\n",
       "      <td>0</td>\n",
       "      <td>1</td>\n",
       "      <td>103</td>\n",
       "      <td>362</td>\n",
       "      <td>0</td>\n",
       "    </tr>\n",
       "  </tbody>\n",
       "</table>\n",
       "</div>"
      ],
      "text/plain": [
       "     isbuyer  buy_freq  visit_freq  buy_interval  sv_interval  \\\n",
       "NaN        0       NaN           1           0.0          0.0   \n",
       "NaN        0       NaN           1           0.0          0.0   \n",
       "NaN        0       NaN           1           0.0          0.0   \n",
       "NaN        0       NaN           1           0.0          0.0   \n",
       "NaN        0       NaN           2           0.0          0.5   \n",
       "\n",
       "     expected_time_buy  expected_time_visit  last_buy  last_visit  \\\n",
       "NaN                0.0               0.0000       106         106   \n",
       "NaN                0.0               0.0000        72          72   \n",
       "NaN                0.0               0.0000         5           5   \n",
       "NaN                0.0               0.0000         6           6   \n",
       "NaN                0.0            -101.1493       101         101   \n",
       "\n",
       "     multiple_buy  multiple_visit  uniq_urls  num_checkins  y_buy  \n",
       "NaN             0               0        169          2130      0  \n",
       "NaN             0               0        154          1100      0  \n",
       "NaN             0               0          4            12      0  \n",
       "NaN             0               0        150           539      0  \n",
       "NaN             0               1        103           362      0  "
      ]
     },
     "execution_count": 9,
     "metadata": {},
     "output_type": "execute_result"
    }
   ],
   "source": [
    "# Place your code here\n",
    "import pandas as pd\n",
    "path = \"data/ads_dataset.tsv\"\n",
    "ads = pd.read_csv(path,sep = '\\t')\n",
    "ads.head()"
   ]
  },
  {
   "cell_type": "markdown",
   "metadata": {},
   "source": [
    "2\\. Write a Python function called `getDfSummary()` that does the following:\n",
    "- Takes as input a data frame\n",
    "- Creates a new data frame called `output_data` that:\n",
    "  - Consists of the output of the `pandas` function `describe()`. (*Hint: Check the `pandas` [(manual page)](http://pandas.pydata.org/pandas-docs/stable/generated/pandas.DataFrame.describe.html) for this function if you want to learn more.*)\n",
    "  - The data frame `output_data` should have the original feature names from `input_data` as **rows**. (*Hint: Are they rows by default? If not, how could you make them rows?*)\n",
    "  - Adds a column called `spread` that is the result of subtracting the `min` from the `max`. (*Hint: What does the `describe()` function return? Do we have a column called `max` and `min`?*)\n",
    "- Returns the new `output_data` data frame."
   ]
  },
  {
   "cell_type": "code",
   "execution_count": 10,
   "metadata": {},
   "outputs": [],
   "source": [
    "import pandas as pd\n",
    "import numpy as np\n",
    "\n",
    "def getDfSummary(input_data):\n",
    "    df = pd.DataFrame(input_data)\n",
    "    describe = df.describe()\n",
    "    dft = describe.T\n",
    "    min = df.min()\n",
    "    max = df.max()\n",
    "    spread = np.subtract(max, min)\n",
    "    output_data = pd.DataFrame(dft)\n",
    "    output_data['spread'] = spread\n",
    "    return output_data"
   ]
  },
  {
   "cell_type": "markdown",
   "metadata": {},
   "source": [
    "3\\. How long does it take for your `getDfSummary()` function to work on your `ads` data frame? Show us the results below.\n",
    "\n",
    "*Hint: `%timeit getDfSummary(ads)`*"
   ]
  },
  {
   "cell_type": "code",
   "execution_count": 11,
   "metadata": {},
   "outputs": [
    {
     "name": "stdout",
     "output_type": "stream",
     "text": [
      "193 ms ± 7.68 ms per loop (mean ± std. dev. of 7 runs, 1 loop each)\n"
     ]
    }
   ],
   "source": [
    "# Place your code here\n",
    "from timeit import timeit\n",
    "%timeit getDfSummary(ads)\n",
    "#output = getDfSummary(ads)\n",
    "#timeit('output','from __main__ import getDfSummary', number=1000)"
   ]
  },
  {
   "cell_type": "markdown",
   "metadata": {},
   "source": [
    "4\\. Show the output of the `getDfSummary()` function you created."
   ]
  },
  {
   "cell_type": "code",
   "execution_count": 12,
   "metadata": {},
   "outputs": [
    {
     "name": "stdout",
     "output_type": "stream",
     "text": [
      "                       count        mean          std       min    25%    50%  \\\n",
      "isbuyer              54584.0    0.042632     0.202027    0.0000    0.0    0.0   \n",
      "buy_freq              2327.0    1.240653     0.782228    1.0000    1.0    1.0   \n",
      "visit_freq           54584.0    1.852777     2.921820    0.0000    1.0    1.0   \n",
      "buy_interval         54584.0    0.210008     3.922016    0.0000    0.0    0.0   \n",
      "sv_interval          54584.0    5.825610    17.595442    0.0000    0.0    0.0   \n",
      "expected_time_buy    54584.0   -0.198040     4.997792 -181.9238    0.0    0.0   \n",
      "expected_time_visit  54584.0  -10.210786    31.879722 -187.6156    0.0    0.0   \n",
      "last_buy             54584.0   64.729335    53.476658    0.0000   18.0   51.0   \n",
      "last_visit           54584.0   64.729335    53.476658    0.0000   18.0   51.0   \n",
      "multiple_buy         54584.0    0.006357     0.079479    0.0000    0.0    0.0   \n",
      "multiple_visit       54584.0    0.277444     0.447742    0.0000    0.0    0.0   \n",
      "uniq_urls            54584.0   86.569343    61.969765   -1.0000   30.0   75.0   \n",
      "num_checkins         54584.0  720.657592  1275.727306    1.0000  127.0  319.0   \n",
      "y_buy                54584.0    0.004635     0.067924    0.0000    0.0    0.0   \n",
      "\n",
      "                            75%          max       spread  \n",
      "isbuyer                0.000000      1.00000      1.00000  \n",
      "buy_freq               1.000000     15.00000     14.00000  \n",
      "visit_freq             2.000000     84.00000     84.00000  \n",
      "buy_interval           0.000000    174.62500    174.62500  \n",
      "sv_interval            0.104167    184.91670    184.91670  \n",
      "expected_time_buy      0.000000     84.28571    266.20951  \n",
      "expected_time_visit    0.000000     91.40192    279.01752  \n",
      "last_buy             105.000000    188.00000    188.00000  \n",
      "last_visit           105.000000    188.00000    188.00000  \n",
      "multiple_buy           0.000000      1.00000      1.00000  \n",
      "multiple_visit         1.000000      1.00000      1.00000  \n",
      "uniq_urls            155.000000    206.00000    207.00000  \n",
      "num_checkins         802.000000  37091.00000  37090.00000  \n",
      "y_buy                  0.000000      1.00000      1.00000  \n"
     ]
    }
   ],
   "source": [
    "# Place your code here\n",
    "output = getDfSummary(ads)\n",
    "print(output)"
   ]
  },
  {
   "cell_type": "markdown",
   "metadata": {},
   "source": [
    "5\\. Using the results returned from `getDfSummary()`, which fields, if any, have a spread of 1? Full credit will be given for a code based approach that prints out the correct field names. Partial credit will be given if you simply manually explore the results of `getDfSummary()`. Print each field name on a line by itself."
   ]
  },
  {
   "cell_type": "code",
   "execution_count": 13,
   "metadata": {},
   "outputs": [
    {
     "name": "stdout",
     "output_type": "stream",
     "text": [
      "['isbuyer', 'buy_freq', 'visit_freq', 'multiple_buy', 'multiple_visit', 'num_checkins', 'y_buy']\n"
     ]
    }
   ],
   "source": [
    "# Place your code here\n",
    "sp = []\n",
    "for i in output.index:\n",
    "    if 1 in output.loc[i].values[:]:\n",
    "        sp.append(i)\n",
    "print(sp)"
   ]
  },
  {
   "cell_type": "markdown",
   "metadata": {},
   "source": [
    "6\\. For the fields that have a spread of 1, what percentage of records have the value of `1`? You may assume that if a field had a spread of 1 that it only has values 1 and 0.\n",
    "\n",
    "Full credit will be given for a code based approach that prints out the correct field names **and** their respective percentages. Partial credit will be given if you simply manually explore the results of `getDfSummary()`. (*Hint: Using the `pandas` function `.get_value()` may be useful if you happen to know the row and column name you want.*)\n",
    "\n",
    "Your results should look something like this:\n",
    "\n",
    "`The field` **`xxx`** `has` **`yyy`** `percent of its records set to 1.`"
   ]
  },
  {
   "cell_type": "code",
   "execution_count": 20,
   "metadata": {},
   "outputs": [
    {
     "name": "stdout",
     "output_type": "stream",
     "text": [
      "The field isbuyer has 0.666667 percent of its records set to 1.\n",
      "The field buy_freq has 0.444444 percent of its records set to 1.\n",
      "The field visit_freq has 0.333333 percent of its records set to 1.\n",
      "The field buy_interval has 0.444444 percent of its records set to 1.\n",
      "The field sv_interval has 0.333333 percent of its records set to 1.\n",
      "The field expected_time_buy has 0.333333 percent of its records set to 1.\n",
      "The field expected_time_visit has 0.333333 percent of its records set to 1.\n",
      "The field last_buy has 0.111111 percent of its records set to 1.\n",
      "The field last_visit has 0.111111 percent of its records set to 1.\n",
      "The field multiple_buy has 0.666667 percent of its records set to 1.\n",
      "The field multiple_visit has 0.666667 percent of its records set to 1.\n",
      "The field uniq_urls has 0.000000 percent of its records set to 1.\n",
      "The field num_checkins has 0.111111 percent of its records set to 1.\n",
      "The field y_buy has 0.666667 percent of its records set to 1.\n"
     ]
    }
   ],
   "source": [
    "# Place your code here\n",
    "for i in output.index:\n",
    "    t = 0\n",
    "    va = output.loc[i].values[:]\n",
    "    for j in range(len(va)):\n",
    "        if va[j] == 0 or va[j] == 1:\n",
    "            t = t + 1\n",
    "    print('The field %s has %f percent of its records set to 1.' % (i , t/9))"
   ]
  },
  {
   "cell_type": "markdown",
   "metadata": {},
   "source": [
    "### Question 2. Functions, loops and plotting"
   ]
  },
  {
   "cell_type": "markdown",
   "metadata": {},
   "source": [
    "1\\. Write a function called `squared_less_100()` that takes a single number, squares it, and then returns the square minus 100."
   ]
  },
  {
   "cell_type": "code",
   "execution_count": 1,
   "metadata": {},
   "outputs": [
    {
     "name": "stdout",
     "output_type": "stream",
     "text": [
      "21\n"
     ]
    }
   ],
   "source": [
    "def squared_less_100(input_number):\n",
    "    output_number = input_number * input_number - 100  \n",
    "    return output_number\n",
    "print(squared_less_100(11))"
   ]
  },
  {
   "cell_type": "markdown",
   "metadata": {},
   "source": [
    "2\\. Create three empty lists called `sl1_results`, `absolute_results`, `log_results`."
   ]
  },
  {
   "cell_type": "code",
   "execution_count": 2,
   "metadata": {},
   "outputs": [],
   "source": [
    "sl1_results = []\n",
    "absolute_results = []\n",
    "log_results = []"
   ]
  },
  {
   "cell_type": "markdown",
   "metadata": {},
   "source": [
    "3\\. Create a list of integers from 1 to 20 (including both 1 and 20) called `original_set`. Loop through this list and apply your `squared_less_100()` function, the `numpy` function for finding absolute value, and the `numpy` natural log function. Store the result of each function by appending it the the initially empty lists you created in Part 4 Question 2. (*Hint: If you don't know what the `numpy` functions for absolute value or natural logs are, simply search online and it will be one of the first results. Although, you can probably guess what they would be!*)"
   ]
  },
  {
   "cell_type": "code",
   "execution_count": 3,
   "metadata": {},
   "outputs": [
    {
     "name": "stdout",
     "output_type": "stream",
     "text": [
      "[ 1  2  3  4  5  6  7  8  9 10 11 12 13 14 15 16 17 18 19 20]\n",
      "[-99 -96 -91 -84 -75 -64 -51 -36 -19   0  21  44  69  96 125 156 189 224\n",
      " 261 300]\n",
      "[ 99  96  91  84  75  64  51  36  19   0  21  44  69  96 125 156 189 224\n",
      " 261 300]\n",
      "[4.59511985 4.56434819 4.51085951 4.4308168  4.31748811 4.15888308\n",
      " 3.93182563 3.58351894 2.94443898       -inf 3.04452244 3.78418963\n",
      " 4.2341065  4.56434819 4.82831374 5.04985601 5.24174702 5.41164605\n",
      " 5.56452041 5.70378247]\n"
     ]
    },
    {
     "name": "stderr",
     "output_type": "stream",
     "text": [
      "C:\\Users\\asus\\Anaconda3\\lib\\site-packages\\ipykernel_launcher.py:9: RuntimeWarning: divide by zero encountered in log\n",
      "  if __name__ == '__main__':\n"
     ]
    }
   ],
   "source": [
    "# Code here!\n",
    "import numpy as np\n",
    "original_set = np.array(range(1,21)) \n",
    "print(original_set)\n",
    "sl1_results = np.array(squared_less_100(original_set))\n",
    "print(sl1_results)\n",
    "absolute_results = np.abs(sl1_results)\n",
    "print(absolute_results)\n",
    "log_results = np.log(absolute_results)\n",
    "print(log_results)\n",
    "\n",
    "# Code here!"
   ]
  },
  {
   "cell_type": "markdown",
   "metadata": {},
   "source": [
    "4\\. Create a plot of your results. On the x-axis put `original_set`. Now, all within the **same plot** put a line for the `sl1_results`, a line for `absolute_results`, and a line for `log_results`. Don't forget to add a legend so that I know which line is for which set of results!"
   ]
  },
  {
   "cell_type": "code",
   "execution_count": 4,
   "metadata": {},
   "outputs": [
    {
     "data": {
      "image/png": "[encoded data removed]",
      "text/plain": [
       "<Figure size 432x288 with 1 Axes>"
      ]
     },
     "metadata": {},
     "output_type": "display_data"
    },
    {
     "data": {
      "image/png": "[encoded data removed]",
      "text/plain": [
       "<Figure size 432x288 with 1 Axes>"
      ]
     },
     "metadata": {},
     "output_type": "display_data"
    }
   ],
   "source": [
    "import matplotlib.pyplot as plt\n",
    "%matplotlib inline\n",
    "\n",
    "plt.plot(original_set, sl1_results, label = \"sl1_results\")\n",
    "plt.plot(original_set, absolute_results, label = \"absolute_results\")\n",
    "plt.plot(original_set, log_results, label = \"log_results\")\n",
    "plt.legend()\n",
    "plt.show()\n",
    "plt.plot(original_set, log_results, label = \"log_results\")\n",
    "plt.legend()\n",
    "plt.show()\n",
    "# Code here!"
   ]
  },
  {
   "cell_type": "markdown",
   "metadata": {},
   "source": [
    "### Question 3. Modeling"
   ]
  },
  {
   "cell_type": "markdown",
   "metadata": {},
   "source": [
    "For this example we will be using the data/cell2cell.csv data. We will practice modelling a problem looking at the likelyhood of customers leaving a company (see below). The idea of this question is to go through the main steps to implement a solution in sklearn and observe similarities in implementing different algorithms.\n",
    "\n",
    "These historical data consist of 31,892 customers: 15,855 customers that churned (i.e., left the company) and 16,036 that did not churn. Here are the data set's 12 columns:\n",
    "\n",
    "Col.  Var. Name  Var. Description\n",
    "----- ---------- --------------------------------------------------------------\n",
    "1     revenue    Mean monthly revenue in dollars\n",
    "2     outcalls   Mean number of outbound voice calls\n",
    "3     incalls    Mean number of inbound voice calls\n",
    "4     months     Months in Service\n",
    "5     eqpdays    Number of days the customer has had his/her current equipment\n",
    "6     webcap     Handset is web capable\n",
    "7     marryyes   Married (1=Yes; 0=No)\n",
    "8     travel     Has traveled to non-US country (1=Yes; 0=No)\n",
    "9     pcown      Owns a personal computer (1=Yes; 0=No)\n",
    "10    creditcd   Possesses a credit card (1=Yes; 0=No)\n",
    "11    retcalls   Number of calls previously made to retention team\n",
    "12    churndep   Did the customer churn (1=Yes; 0=No)\n",
    "The first 11 columns are our attributes/features. The last column, \"churndep\", is the target variable.\n",
    "\n",
    "For this question apply any 3 machine learning algorithms that have covered in class (e.g. support vector machines, decision trees, logistic regression, nearest neighbour, neural network). Practice following the example and report your results for each algorithm in the form of:\n",
    "(1) accuracy in correctly predicting churn\n",
    "(2) a confusion matrix \n",
    "\n",
    "You can follow the template provided for coding. Notice we go through the same steps for each algorithm:\n",
    "- load data\n",
    "- create test and train data\n",
    "- instantiate model\n",
    "- train on training data examples\n",
    "- test on out sample data\n",
    "- review results\n"
   ]
  },
  {
   "cell_type": "code",
   "execution_count": 1,
   "metadata": {},
   "outputs": [
    {
     "name": "stdout",
     "output_type": "stream",
     "text": [
      "[[4348 3747]\n",
      " [3678 4173]] [[4861 3838]\n",
      " [3165 4082]] [[6186 5651]\n",
      " [1840 2269]]\n"
     ]
    }
   ],
   "source": [
    "import itertools\n",
    "import numpy as np\n",
    "import pandas as pd\n",
    "from sklearn.model_selection import train_test_split\n",
    "from sklearn.tree import DecisionTreeClassifier\n",
    "from sklearn.linear_model import LogisticRegression\n",
    "from sklearn.svm import SVC\n",
    "from sklearn.metrics import accuracy_score\n",
    "from sklearn.metrics import confusion_matrix\n",
    "import matplotlib.pylab as plt\n",
    "\n",
    "%matplotlib inline\n",
    "\n",
    "# Read in our csv data\n",
    "data = pd.read_csv( 'data/cell2cell.csv' )\n",
    "\n",
    "# Put all features into X and the target variable into Y\n",
    "X = data.drop('churndep', axis = 1)\n",
    "Y = data['churndep']\n",
    "\n",
    "\n",
    "# Loop through your training percentages, split your data with each percentage, \n",
    "#  create both models, fit/train both models, predict with your models and \n",
    "#  append each accuracy to the correct list\n",
    "#for training_percentage in training_percentages:\n",
    "x_train, x_test, y_train, y_test = train_test_split( X, Y, test_size = 0.5, random_state = 0 )\n",
    "\n",
    "    \n",
    "# Create all the models\n",
    "model1 = DecisionTreeClassifier()\n",
    "model2 = LogisticRegression(solver = 'liblinear')\n",
    "model3 = SVC()\n",
    "\n",
    "# Fit the models\n",
    "model1.fit(x_train, y_train)\n",
    "model2.fit(x_train, y_train)\n",
    "model3.fit(x_train, y_train)\n",
    "\n",
    "# Fit all the models (Test)\n",
    "Y_test_model1 = model1.predict(x_test)\n",
    "Y_test_model2 = model2.predict(x_test)\n",
    "Y_test_model3 = model3.predict(x_test)\n",
    "    \n",
    "\n",
    "# report results and validate\n",
    "\n",
    "# Get the accuracy for the models' predictions\n",
    "tree_acc = accuracy_score(Y_test_model1, y_test)\n",
    "logistic_acc = accuracy_score(Y_test_model2, y_test)\n",
    "svc_acc = accuracy_score(Y_test_model3, y_test)\n",
    "\n",
    "# get the confusion matrix\n",
    "tree = confusion_matrix(Y_test_model1, y_test)\n",
    "logistic = confusion_matrix(Y_test_model2, y_test)\n",
    "svc = confusion_matrix(Y_test_model3, y_test)\n",
    "\n",
    "# print accuracy and confusion matrix in a nicely formatted table\n",
    "classes = list(set(Y))\n",
    "tick_marks = np.arange(len(classes))\n",
    "print(tree, logistic, svc)"
   ]
  },
  {
   "cell_type": "code",
   "execution_count": null,
   "metadata": {},
   "outputs": [],
   "source": []
  },
  {
   "cell_type": "markdown",
   "metadata": {},
   "source": [
    "### Question 4. Calculating Entropy and Information Gain"
   ]
  },
  {
   "cell_type": "markdown",
   "metadata": {},
   "source": [
    "Calculate entropy and information gain."
   ]
  },
  {
   "cell_type": "markdown",
   "metadata": {},
   "source": [
    "1\\. Consider this population. What is the entropy? \n",
    "<br /><img src=\"images/q5-1.png\" height=140px width=142px style=\"float: left\"/>"
   ]
  },
  {
   "cell_type": "markdown",
   "metadata": {},
   "source": [
    "Put your answer here and working out. No working out = no mark. This question has no coding."
   ]
  },
  {
   "cell_type": "code",
   "execution_count": 4,
   "metadata": {},
   "outputs": [
    {
     "name": "stdout",
     "output_type": "stream",
     "text": [
      "0.9709505944546686\n"
     ]
    }
   ],
   "source": [
    "import numpy as np\n",
    "p1 = 4/10\n",
    "logp1 = np.log2(p1)\n",
    "p2 = 6/10\n",
    "logp2 = np.log2(p2)\n",
    "entropy = -p1*logp1-p2*logp2\n",
    "print(entropy)"
   ]
  },
  {
   "cell_type": "markdown",
   "metadata": {},
   "source": [
    "3\\. Consider these possible splits at the top of a decision tree. Calculate the information gain obtained with Split A and Split B. Which split is better and why?\n",
    "<br /><img src=\"images/q5-a.png\" height=300px width=300px style=\"float: left; padding-right: 20px;\"/> <img src=\"images/q5-b.png\" height=300px width=300px style=\"float: left; padding-left: 20px\"/>"
   ]
  },
  {
   "cell_type": "markdown",
   "metadata": {},
   "source": [
    "Put your answer here and working out. No working out = no mark. This question has no coding."
   ]
  },
  {
   "cell_type": "code",
   "execution_count": 12,
   "metadata": {},
   "outputs": [
    {
     "name": "stdout",
     "output_type": "stream",
     "text": [
      "1.565596230357602\n"
     ]
    }
   ],
   "source": [
    "import numpy as np\n",
    "#Original\n",
    "p1 = 4/15\n",
    "logp1 = np.log2(p1)\n",
    "p2 = 5/15\n",
    "logp2 = np.log2(p2)\n",
    "p3 = 6/15\n",
    "logp3 = np.log2(p3)\n",
    "entropy0 = -p1*logp1-p2*logp2-p3*logp3\n",
    "print(entropy0)"
   ]
  },
  {
   "cell_type": "code",
   "execution_count": 18,
   "metadata": {},
   "outputs": [
    {
     "name": "stdout",
     "output_type": "stream",
     "text": [
      "0.5376726268482797\n"
     ]
    }
   ],
   "source": [
    "#Split A\n",
    "pa1 = 5/8\n",
    "logpa1 = np.log2(pa1)\n",
    "pa2 = 3/8\n",
    "logpa2 = np.log2(pa2)\n",
    "entropya1 = -pa1*logpa1-pa2*logpa2\n",
    "pa3 = 1/7\n",
    "logpa3 = np.log2(pa3)\n",
    "pa4 = 1/7\n",
    "logpa4 = np.log2(pa4)\n",
    "pa5 = 5/7\n",
    "logpa5 = np.log2(pa5)\n",
    "entropya2 = -pa3*logpa3-pa4*logpa4-pa5*logpa5\n",
    "entropya = entropya1 + entropya2 - entropy0 \n",
    "print(entropya)"
   ]
  },
  {
   "cell_type": "code",
   "execution_count": 19,
   "metadata": {},
   "outputs": [
    {
     "name": "stdout",
     "output_type": "stream",
     "text": [
      "-0.5745201705193799\n"
     ]
    }
   ],
   "source": [
    "#Split B\n",
    "pb1 = 1\n",
    "logpb1 = np.log2(pb1)\n",
    "entropyb1 = -pb1*logpb1\n",
    "pb2 = 4/9\n",
    "logpb2 = np.log2(pb2)\n",
    "pb3 = 5/9\n",
    "logpb3 = np.log2(pb3)\n",
    "entropyb2 = -pb2*logpb2-pb3*logpb3\n",
    "entropyb = entropyb1 + entropyb2 - entropy0 \n",
    "print(entropyb)"
   ]
  },
  {
   "cell_type": "code",
   "execution_count": 20,
   "metadata": {},
   "outputs": [],
   "source": [
    "#Split B is better."
   ]
  },
  {
   "cell_type": "markdown",
   "metadata": {},
   "source": [
    "### Question 5. Learning Curves"
   ]
  },
  {
   "cell_type": "markdown",
   "metadata": {},
   "source": [
    "For this example we will be using the `data/cell2cell.csv` data. It is a dataset to predict customer churn (chance of customer leaving a phone company) based on various inputs describing the customer and their usage of the service.\n",
    "\n",
    "These historical data consist of 31,892 customers: 15,855 customers that churned (i.e., left the company) and 16,036 that did not churn. Here are the data set's 12 columns:\n",
    "\n",
    "```\n",
    "Col.  Var. Name  Var. Description\n",
    "----- ---------- --------------------------------------------------------------\n",
    "1     revenue    Mean monthly revenue in dollars\n",
    "2     outcalls   Mean number of outbound voice calls\n",
    "3     incalls    Mean number of inbound voice calls\n",
    "4     months     Months in Service\n",
    "5     eqpdays    Number of days the customer has had his/her current equipment\n",
    "6     webcap     Handset is web capable\n",
    "7     marryyes   Married (1=Yes; 0=No)\n",
    "8     travel     Has traveled to non-US country (1=Yes; 0=No)\n",
    "9     pcown      Owns a personal computer (1=Yes; 0=No)\n",
    "10    creditcd   Possesses a credit card (1=Yes; 0=No)\n",
    "11    retcalls   Number of calls previously made to retention team\n",
    "12    churndep   Did the customer churn (1=Yes; 0=No)\n",
    "```\n",
    "\n",
    "The first 11 columns are our attributes/features. The last column, `\"churndep\"`, is the target variable."
   ]
  },
  {
   "cell_type": "markdown",
   "metadata": {},
   "source": [
    "Create a decision tree using entropy with no max depth and a logistic regression. \n",
    "\n",
    "In both cases assign 10% to 90% of the data to training (in increments of 10%) and the rest to test. \n",
    "\n",
    "For each training set,fit both models and then get the accuracy on the remaining data used for test. \n",
    "\n",
    "Lastly, create a plot:\n",
    "Where the x-axis includes 0.10 to 0.90 (one tick for each training data percentage) and the y-axis indicates accuracy. Your plot should have two lines/curves on it: one for the decision tree and one for logistic regression. \n",
    "\n",
    "You can use the following code template."
   ]
  },
  {
   "cell_type": "code",
   "execution_count": 24,
   "metadata": {},
   "outputs": [
    {
     "data": {
      "image/png": "[encoded data removed]",
      "text/plain": [
       "<Figure size 432x288 with 1 Axes>"
      ]
     },
     "metadata": {},
     "output_type": "display_data"
    },
    {
     "data": {
      "image/png": "[encoded data removed]",
      "text/plain": [
       "<Figure size 432x288 with 1 Axes>"
      ]
     },
     "metadata": {},
     "output_type": "display_data"
    }
   ],
   "source": [
    "import pandas as pd\n",
    "from sklearn.model_selection import train_test_split\n",
    "from sklearn.tree import DecisionTreeClassifier\n",
    "from sklearn.linear_model import LogisticRegression\n",
    "from sklearn.metrics import accuracy_score\n",
    "import matplotlib.pylab as plt\n",
    "%matplotlib inline\n",
    "\n",
    "# Read in our csv data\n",
    "data = pd.read_csv( 'data/cell2cell.csv' )\n",
    "\n",
    "# Put all features into X and the target variable into Y\n",
    "X = data.drop( 'churndep', axis = 1 )\n",
    "Y = data[ 'churndep' ]\n",
    "\n",
    "# Prepare to do some training and testing\n",
    "training_percentages = [0.10, 0.20, 0.30, 0.40, 0.50, 0.60, 0.70, 0.80, 0.90]\n",
    "tree_accuracies = []\n",
    "logistic_accuracies = []\n",
    "\n",
    "# Loop through your training percentages, split your data with each percentage, \n",
    "#  create both models, fit/train both models, predict with your models and \n",
    "#  append each accuracy to the correct list\n",
    "for training_percentage in training_percentages:\n",
    "    x_train, x_test, y_train, y_test = train_test_split( X, Y, test_size = training_percentage, random_state = 0 )\n",
    "    \n",
    "    # Create both models\n",
    "    tree = DecisionTreeClassifier()\n",
    "    logistic = LogisticRegression( solver='liblinear' )\n",
    "    \n",
    "    # Fit both models\n",
    "    tree.fit( x_train, y_train )\n",
    "    logistic.fit( x_train, y_train )\n",
    "    \n",
    "    # Get predictions from both models\n",
    "    Y_test_predicted_tree = tree.predict( x_test )\n",
    "    Y_test_predicted_logistic = logistic.predict( x_test )\n",
    "\n",
    "    # Get the accuracy for the models' predictions\n",
    "    tree_acc = accuracy_score( Y_test_predicted_tree, y_test )\n",
    "    logistic_acc = accuracy_score( Y_test_predicted_logistic, y_test )\n",
    "    \n",
    "    # Now that I have a tree and logistic accuracy, I should add them to my list of accuracies\n",
    "    tree_accuracies.append( tree_acc )\n",
    "    logistic_accuracies.append( logistic_acc )\n",
    "\n",
    "# Plot two curves on one plot. Don't forget labels and your legend\n",
    "plt.plot( training_percentages, tree_accuracies, label = 'Decision Tree')\n",
    "plt.legend()\n",
    "plt.xlabel( \"Training Percentages\" )\n",
    "plt.ylabel( \"Accuracy\" )\n",
    "plt.show()\n",
    "\n",
    "plt.plot( training_percentages, logistic_accuracies, label = 'Logistic Regression')\n",
    "plt.legend()\n",
    "plt.xlabel( \"Training Percentages\" )\n",
    "plt.ylabel( \"Accuracy\" )\n",
    "plt.show()"
   ]
  },
  {
   "cell_type": "markdown",
   "metadata": {},
   "source": [
    "What type of plot is this?\n",
    "\n",
    "Do you observe any interesting trends in the plot?"
   ]
  },
  {
   "cell_type": "markdown",
   "metadata": {},
   "source": [
    "put your answer here."
   ]
  },
  {
   "cell_type": "markdown",
   "metadata": {},
   "source": [
    "### Question 6. Cross Validation, Fitting Curves"
   ]
  },
  {
   "cell_type": "markdown",
   "metadata": {},
   "source": [
    "This question uses the same dataset as the previous question."
   ]
  },
  {
   "cell_type": "markdown",
   "metadata": {},
   "source": [
    "1. Review the below code which implements a decision and performs cross validation based on changing the max depth complexity parameter."
   ]
  },
  {
   "cell_type": "code",
   "execution_count": 9,
   "metadata": {},
   "outputs": [
    {
     "data": {
      "image/png": "[encoded data removed]",
      "text/plain": [
       "<matplotlib.figure.Figure at 0x29a2e81c780>"
      ]
     },
     "metadata": {},
     "output_type": "display_data"
    }
   ],
   "source": [
    "# Import pandas to read in data\n",
    "import pandas as pd\n",
    "import numpy as np\n",
    "\n",
    "# Import matplotlib for plotting\n",
    "import matplotlib.pylab as plt\n",
    "%matplotlib inline\n",
    "\n",
    "# Import decision trees and logistic regression\n",
    "from sklearn.tree import DecisionTreeClassifier\n",
    "\n",
    "# Import train, test, and evaluation functions\n",
    "from sklearn.metrics import accuracy_score\n",
    "from sklearn.cross_validation import cross_val_score\n",
    "\n",
    "# Read data using pandas\n",
    "data = pd.read_csv(\"data/cell2cell.csv\")\n",
    "\n",
    "# Split into X and Y\n",
    "X = data.drop(['churndep'], 1)\n",
    "Y = data['churndep']\n",
    "\n",
    "# try maximum depths from 1 to 20\n",
    "complexity_values = range(1,20)\n",
    "\n",
    "# empty list to hold my accuracies\n",
    "accuracies = []\n",
    "\n",
    "# go through each complexity_value one at a time.\n",
    "for complexity_value in complexity_values:\n",
    "    # This will create an empty tree with a specific maximum depth (complexity)\n",
    "    tree = DecisionTreeClassifier(criterion=\"entropy\", max_depth=complexity_value)\n",
    "    \n",
    "    # This will get us 10-fold cross validation accuracy with our tree and our data\n",
    "    # We can do this in one line!\n",
    "    cross_fold_accuracies = cross_val_score(tree, X, Y, scoring=\"accuracy\", cv=10)\n",
    "    \n",
    "    # Average accuracy\n",
    "    average_cross_fold_accuracy = np.mean(cross_fold_accuracies)\n",
    "    \n",
    "    # Append this accuracy to a list of accuracies\n",
    "    accuracies.append(average_cross_fold_accuracy)\n",
    "\n",
    "# We want to plot our results\n",
    "plt.plot(complexity_values, accuracies)\n",
    "plt.xlabel(\"Maximum Depth\")\n",
    "plt.ylabel(\"Accuracy\")\n",
    "plt.show()"
   ]
  },
  {
   "cell_type": "markdown",
   "metadata": {},
   "source": [
    "Given this analysis, what value would you set the decision tree max depth parameter to for new predictions and why?"
   ]
  },
  {
   "cell_type": "code",
   "execution_count": 29,
   "metadata": {},
   "outputs": [],
   "source": [
    " #answere here.\n",
    "# I would set the decision tree max depth parameter at value 2 because its accuracy is the largest."
   ]
  },
  {
   "cell_type": "markdown",
   "metadata": {},
   "source": [
    "2\\. Change the code above to perform a similar analysis with other measures of complexity: max leaf nodes, max features, etc. Select 3 parameters and produce 3 charts showing the performance."
   ]
  },
  {
   "cell_type": "code",
   "execution_count": null,
   "metadata": {},
   "outputs": [],
   "source": [
    "#Put your answer here. (step 1 - copy the code from the previous question).\n",
    "# Import pandas to read in data\n",
    "import pandas as pd\n",
    "import numpy as np\n",
    "\n",
    "# Import matplotlib for plotting\n",
    "import matplotlib.pylab as plt\n",
    "%matplotlib inline\n",
    "\n",
    "# Import decision trees and logistic regression\n",
    "from sklearn.tree import DecisionTreeClassifier\n",
    "\n",
    "# Import train, test, and evaluation functions\n",
    "from sklearn.metrics import accuracy_score\n",
    "from sklearn.cross_validation import cross_val_score\n",
    "\n",
    "# Read data using pandas\n",
    "data = pd.read_csv(\"data/cell2cell.csv\")\n",
    "\n",
    "# Split into X and Y\n",
    "X = data.drop(['churndep'], 1)\n",
    "Y = data['churndep']\n",
    "\n",
    "# try maximum depths from 1 to 20\n",
    "complexity_values = range(1,20)\n",
    "\n",
    "# empty list to hold my accuracies\n",
    "accuracies = []\n",
    "maxleafnodes = []\n",
    "maxfeatures = []\n",
    "\n",
    "# go through each complexity_value one at a time.\n",
    "for complexity_value in complexity_values:\n",
    "    # This will create an empty tree with a specific maximum depth (complexity)\n",
    "    tree1 = DecisionTreeClassifier(criterion=\"entropy\", max_depth=complexity_value)\n",
    "    tree2 = DecisionTreeClassifier(criterion=\"entropy\", max_leaf_nodes=complexity_value)\n",
    "    tree3 = DecisionTreeClassifier(criterion=\"entropy\", max_features=complexity_value)\n",
    "    # This will get us 10-fold cross validation accuracy with our tree and our data\n",
    "    # We can do this in one line!\n",
    "    cross_fold_accuracies1 = cross_val_score(tree1, X, Y, scoring=\"accuracy\", cv=10)\n",
    "    cross_fold_accuracies2 = cross_val_score(tree2, X, Y, scoring=\"accuracy\", cv=10)\n",
    "    cross_fold_accuracies3 = cross_val_score(tree3, X, Y, scoring=\"accuracy\", cv=10)\n",
    "    \n",
    "    # Average accuracy\n",
    "    average_cross_fold_accuracy1 = np.mean(cross_fold_accuracies1)\n",
    "    average_cross_fold_accuracy2 = np.mean(cross_fold_accuracies2)\n",
    "    average_cross_fold_accuracy3 = np.mean(cross_fold_accuracies3)\n",
    "    \n",
    "    # Append this accuracy to a list of accuracies\n",
    "    accuracies.append(average_cross_fold_accuracy1)\n",
    "    maxleafnodes.append(average_cross_fold_accuracy2)\n",
    "    maxfeatures.append(average_cross_fold_accuracy3)\n",
    "\n",
    "# We want to plot our results\n",
    "plt.plot(complexity_values, accuracies, label = 'Maximum Depth')\n",
    "plt.plot(complexity_values, maxleafnodes, label = 'Max Leaf Nodes')\n",
    "plt.plot(complexity_values, maxfeatures, label = 'Max Features')\n",
    "plt.xlabel(\"Complexity Values\")\n",
    "plt.ylabel(\"Accuracy\")\n",
    "plt.show()"
   ]
  },
  {
   "cell_type": "markdown",
   "metadata": {},
   "source": [
    "### Question 7. Implement 3 algorithms and optimise parameters"
   ]
  },
  {
   "cell_type": "markdown",
   "metadata": {},
   "source": [
    "3\\. This question requires you to implement additional machine learning methods and improve the performance of the decision tree we analysed in the last question. Look at nearest neighbour, logistic regression (see https://scikit-learn.org/stable/modules/generated/sklearn.linear_model.LogisticRegression.html), and support vector machine (see https://scikit-learn.org/stable/modules/generated/sklearn.svm.LinearSVC.html).\n",
    "\n",
    "Produce graphs showing the accuracy performance for different regularisation strengths - C parameter- in logistic regression and SVM. For nearest neighbours examine the value of k."
   ]
  },
  {
   "cell_type": "code",
   "execution_count": 11,
   "metadata": {},
   "outputs": [],
   "source": [
    "#your code here. Grading based on correct implementation and approach as well as improving the previous result. \n",
    "# you need to use cross validation and accuracy to measure the performance (as in the previous example) and try to change \n",
    "#different appropriate parameters..."
   ]
  },
  {
   "cell_type": "code",
   "execution_count": 46,
   "metadata": {},
   "outputs": [
    {
     "data": {
      "image/png": "[encoded data removed]",
      "text/plain": [
       "<Figure size 432x288 with 1 Axes>"
      ]
     },
     "metadata": {},
     "output_type": "display_data"
    }
   ],
   "source": [
    "import numpy as np\n",
    "from sklearn.datasets import load_iris\n",
    "from sklearn.neighbors import KNeighborsClassifier\n",
    "from sklearn.linear_model import LogisticRegression\n",
    "from sklearn.svm import SVC\n",
    "from sklearn.model_selection import cross_val_score\n",
    "import matplotlib.pylab as plt\n",
    "%matplotlib inline\n",
    "\n",
    "X, Y = load_iris( return_X_y = True )\n",
    "\n",
    "parameters = range( 1, 51 )\n",
    "\n",
    "KNeighborsClassifieraccuracies = []\n",
    "LogisticRegressionaccuracies = []\n",
    "SVMaccuracies = []\n",
    "\n",
    "for parameter in parameters :\n",
    "    knc = KNeighborsClassifier( n_neighbors = parameter )\n",
    "    lr = LogisticRegression(solver = 'liblinear', C = parameter )\n",
    "    svm = SVC( C = parameter )\n",
    "    \n",
    "    cross_fold_accuracies1 = cross_val_score( knc, X, Y, scoring = 'accuracy', cv = 10 )\n",
    "    cross_fold_accuracies2 = cross_val_score( lr, X, Y, scoring = 'accuracy', cv = 10 )\n",
    "    cross_fold_accuracies3 = cross_val_score( svm, X, Y, scoring = 'accuracy', cv = 10 )\n",
    "    \n",
    "    average_cross_fold_accuracy1 = np.mean( cross_fold_accuracies1 )\n",
    "    average_cross_fold_accuracy2 = np.mean( cross_fold_accuracies2 )\n",
    "    average_cross_fold_accuracy3 = np.mean( cross_fold_accuracies3 )\n",
    "    \n",
    "    KNeighborsClassifieraccuracies.append( average_cross_fold_accuracy1 )\n",
    "    LogisticRegressionaccuracies.append( average_cross_fold_accuracy2 )\n",
    "    SVMaccuracies.append( average_cross_fold_accuracy3 )\n",
    "\n",
    "plt.plot( parameters, KNeighborsClassifieraccuracies, label = 'K Neighbors Classifier')\n",
    "plt.xlabel( 'Parameters' )\n",
    "plt.ylabel( 'Accuracy' )\n",
    "plt.legend()\n",
    "#plt.show()\n",
    "plt.plot( parameters, LogisticRegressionaccuracies, label = 'Logistic Regreesion' )\n",
    "plt.xlabel( 'Parameters' )\n",
    "plt.ylabel( 'Accuracy' )\n",
    "plt.legend()\n",
    "#plt.show()\n",
    "plt.plot( parameters, SVMaccuracies, label = 'Support Vector Machine')\n",
    "plt.xlabel( 'Parameters' )\n",
    "plt.ylabel( 'Accuracy' )\n",
    "plt.legend()\n",
    "plt.show()\n"
   ]
  },
  {
   "cell_type": "code",
   "execution_count": null,
   "metadata": {},
   "outputs": [],
   "source": []
  }
 ],
 "metadata": {
  "kernelspec": {
   "display_name": "Python 3",
   "language": "python",
   "name": "python3"
  },
  "language_info": {
   "codemirror_mode": {
    "name": "ipython",
    "version": 3
   },
   "file_extension": ".py",
   "mimetype": "text/x-python",
   "name": "python",
   "nbconvert_exporter": "python",
   "pygments_lexer": "ipython3",
   "version": "3.6.5"
  }
 },
 "nbformat": 4,
 "nbformat_minor": 1
}
