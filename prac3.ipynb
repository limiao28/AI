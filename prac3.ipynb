{
 "cells": [
  {
   "cell_type": "markdown",
   "metadata": {},
   "source": [
    "# Introduction to Artificial Intelligence for Non Computing"
   ]
  },
  {
   "cell_type": "markdown",
   "metadata": {},
   "source": [
    "## Practical 3 (weeks 5 - 6)"
   ]
  },
  {
   "cell_type": "markdown",
   "metadata": {},
   "source": [
    "The following links provide additional information about data analysis , machine learning and Numpy"
   ]
  },
  {
   "cell_type": "markdown",
   "metadata": {},
   "source": [
    "Python data analysis: https://www.imooc.com/learn/843\n",
    "machine learning: https://www.imooc.com/learn/717\n",
    "Numpy :https://www.imooc.com/learn/943"
   ]
  },
  {
   "cell_type": "markdown",
   "metadata": {},
   "source": [
    "#### Theory Questions"
   ]
  },
  {
   "cell_type": "markdown",
   "metadata": {},
   "source": [
    "1\\.Which of the following are true and which are false? Give brief explanations.\n",
    "- a. In a fully observable, turn-taking, zero-sum game between two perfectly rational players,it does not help the first player to know what strategy the second player is using—that is, what move the second player will make, given the first player's move.\n",
    "- b. In a partially observable, turn-taking, zero-sum game between two perfectly rational players, it does not help the first player to know what move the second player will make, given the first player's move.\n",
    "- c. A perfectly rational backgammon agent never loses.\n",
    "\n",
    "See textbook Chapter6 24.6"
   ]
  },
  {
   "cell_type": "markdown",
   "metadata": {},
   "source": [
    "_your answer here..._ \n",
    "\n",
    "***\n",
    "(a) True. The second player will play optimally, knowing which of two equally good moves the opponent will make does not change the value of the game to the first player.\n",
    "(b) False. In a partially obserable game, knowing the second player's move will tell the first player additional information.\n",
    "(c) False. Backgammon is a game of chance, and the opponent may consistently roll much better dice. "
   ]
  },
  {
   "cell_type": "markdown",
   "metadata": {},
   "source": [
    "2\\.Define in your own words the terms constraint, backtracking search, arc consistency,backjumping, min-conflicts, and cycle cutset.\n",
    "\n",
    "See textbook Chapter6 6.16"
   ]
  },
  {
   "cell_type": "markdown",
   "metadata": {},
   "source": [
    "_your answer here..._ \n",
    "\n",
    "***\n",
    "(1) constraint: A constraint is a restriction on the possible values of two or more variables.\n",
    "(2) backtracking search: Backtracking search is a kind of DFS. For a certain search tree(search tree is the role of recording path and state judgment), backtracking and DFS, the main difference is that backtracking method is not in the solution proces. The complete tree structure is preserved, while the DFS records the complete search tree.\n",
    "(3) arc consistency: A directed arc from variable A to variable B in a CSP is arc consistent if, for every value in the current domain of A, there is some consistent value of B.\n",
    "(4) backjumping: Backjumping is a way of making backtracking search more efficient, by jumping back more than one level when a dead end is reached. \n",
    "(5) Min-conflicts is a heuristic for use with local search on CSP problems. The heuristic says that, when given a variable to modify, choose the value that conflicts with the fewest number of other variables.\n",
    "(6) cycle cutset: A cycle cutset is set of variables which when removed from the constraint graph make it acyclic (i.e., a tree). When the variables of a cycle cutset are instantiated the remainder of the Csp can be solved in linear time."
   ]
  },
  {
   "cell_type": "markdown",
   "metadata": {},
   "source": [
    "3\\.Explain why it is a good heuristic to choose the variable that is most constrained but the value that is least constraining in a CSP search.\n",
    "\n",
    "See textbook Chapter6 6.9"
   ]
  },
  {
   "cell_type": "markdown",
   "metadata": {},
   "source": [
    "_your answer here..._ \n",
    "\n",
    "***\n",
    "The most constrained variable makes sense because it chooses a variable that is (all other things being equal) likely to cause a failure, and it is more efficient to fail as early as possible ( thereby pruning large parts of the search space). The least constraining value heuristic makes sense because it allows the most chances for future assignments to avoid conflict."
   ]
  },
  {
   "cell_type": "markdown",
   "metadata": {},
   "source": [
    "4\\.Consider the following procedure for choosing moves in games with chance nodes: \n",
    "- 1、Generate some dice-roll sequences (say, 50) down to a suitable depth (say, 8).\n",
    "- 2、With known dice rolls, the game tree becomes deterministic. For each dice-roll sequence,solve the resulting deterministic game tree using alpha-beta.\n",
    "- 3、Use the results to estimate the value of each move and to choose the best.Will this procedure work well? Why (or why not)?\n",
    "\n",
    "See textbook Chapter5 5.19"
   ]
  },
  {
   "cell_type": "markdown",
   "metadata": {},
   "source": [
    "_your answer here..._ \n",
    "\n",
    "***\n",
    "The procedure will give incorrent results. Mathmatically, the procedure amounts to assuming that averaging commutes with min and max, which it does not. Intuitively, the choices made by each player in the deterministic trees are based on full knowledge of future dice rolls, and bear no necessary relationship to the moves made without such knowledge."
   ]
  },
  {
   "cell_type": "markdown",
   "metadata": {},
   "source": [
    "5\\. Now,please consider this game:  there are three plates A, B and C, each plate has three bills. A puts 1, 20, 50; B puts 5, 10, 100; C puts 1, 5, 20. All units are \"Yuan\". There are two persons A and B, and two of them can check out three plates and banknotes .（ A is ourself, The other is B）\n",
    "The game is divided into three steps: \n",
    "- 1、A select a plate from three plate.\n",
    "- 2、B take out two banknotes from A selected plate,and give the  banknotes to A.  \n",
    "- 3、A take one of the two banknotes, and take it away.among,A want to get the max banknotes, B want to let A to get the min.\n",
    "\n",
    "Try to understand the minimax algorithm，you can click the link:https://blog.csdn.net/tangchenyi/article/details/22920031"
   ]
  },
  {
   "cell_type": "markdown",
   "metadata": {},
   "source": [
    "_your answer here..._ \n",
    "\n",
    "***"
   ]
  },
  {
   "cell_type": "markdown",
   "metadata": {},
   "source": [
    "### Programming Excercises"
   ]
  },
  {
   "cell_type": "markdown",
   "metadata": {},
   "source": [
    "1\\. Guess number(Single number): please generate a randomly number  with the function (random), then ask someone to guess the number,I think we should give the corresponding hint, otherwise it will be very difficult to guess the number.the game will be over untill you get the right number."
   ]
  },
  {
   "cell_type": "code",
   "execution_count": 1,
   "metadata": {},
   "outputs": [
    {
     "name": "stdout",
     "output_type": "stream",
     "text": [
      "please guess an integer: \n",
      "50\n",
      "It's lower\n",
      "please guess an integer: \n",
      "75\n",
      "It's lower\n",
      "please guess an integer: \n",
      "85\n",
      "Bingo\n"
     ]
    }
   ],
   "source": [
    "## write your answer here!\n",
    "import random\n",
    "a = random.randint(1,100)\n",
    "\n",
    "while True:\n",
    "    print( \"please guess an integer: \")\n",
    "    g = int(input())\n",
    "    if (g > a):\n",
    "        print(\"It's higher\")\n",
    "    elif(g < a):\n",
    "         print(\"It's lower\")\n",
    "    elif(g == a):\n",
    "        print(\"Bingo\")\n",
    "        break\n",
    "        "
   ]
  },
  {
   "cell_type": "markdown",
   "metadata": {},
   "source": [
    "2\\.if you had understand the guess single number games,Congratulates,next is the guess three number games,Maybe you can do it well.But this is a different way of thinking. \n",
    "first : we need generate three numbers,there are most ten times chances give  you to guess the number,of course,we also give you some cue.\n",
    "\n",
    "- 'When I say:-->It means:\n",
    "- 'error--> The 3 numbers are not in the mystical numbers.'\n",
    "- 'Only the number is correct --> the number is right , but the position is not right.'\n",
    "- 'Absolutely right--> numbers is right and the position also right.'\n",
    "\n",
    "Maybe it's better for you to understand the rule well through see the picture.\n",
    "<div style=\"float:left;\" ><img src=\"img/p1.png\" width=\"400\" height=\"300\" >"
   ]
  },
  {
   "cell_type": "code",
   "execution_count": 2,
   "metadata": {},
   "outputs": [
    {
     "name": "stdout",
     "output_type": "stream",
     "text": [
      "please guess three numbers:\n",
      "This is the 1 times:\n",
      "4\n",
      "5\n",
      "6\n",
      "['error', 'Only the number is correct', 'error']\n",
      "This is the 2 times:\n",
      "5\n",
      "1\n",
      "2\n",
      "['Absolutely right', 'error', 'Only the number is correct']\n",
      "This is the 3 times:\n",
      "5\n",
      "2\n",
      "3\n",
      "['Absolutely right', 'Absolutely right', 'error']\n",
      "This is the 4 times:\n",
      "5\n",
      "2\n",
      "7\n",
      "['Absolutely right', 'Absolutely right', 'error']\n",
      "This is the 5 times:\n",
      "5\n",
      "2\n",
      "8\n",
      "['Absolutely right', 'Absolutely right', 'error']\n",
      "This is the 6 times:\n",
      "5\n",
      "2\n",
      "9\n",
      "['Absolutely right', 'Absolutely right', 'error']\n",
      "This is the 7 times:\n",
      "5\n",
      "2\n",
      "10\n",
      "['Absolutely right', 'Absolutely right', 'error']\n",
      "This is the 8 times:\n",
      "5\n",
      "2\n",
      "2\n",
      "['Absolutely right', 'Absolutely right', 'Only the number is correct']\n",
      "This is the 9 times:\n",
      "5\n",
      "2\n",
      "5\n",
      "['Absolutely right', 'Absolutely right', 'Absolutely right']\n"
     ]
    }
   ],
   "source": [
    "## write your answer here!\n",
    "import random\n",
    "a = random.randint(1,10)\n",
    "b = random.randint(1,10)\n",
    "c = random.randint(1,10)\n",
    "array = [a,b,c]\n",
    "print(\"please guess three numbers:\")\n",
    "for i in range(0,10):\n",
    "    print(\"This is the\", i+1, \"times:\")\n",
    "    ga = int(input())\n",
    "    gb = int(input())\n",
    "    gc = int(input())\n",
    "    g = [ga,gb,gc]\n",
    "    say = [\"\",\"\",\"\"]\n",
    "    for j in range(0,3):\n",
    "        if (g[j] == array[j]):\n",
    "            say[j] = 'Absolutely right'\n",
    "        elif(g[j] != a) and (g[j] != b) and (g[j] != c):\n",
    "            say[j] = 'error'\n",
    "        else:\n",
    "            say[j] = 'Only the number is correct'\n",
    "    print(say)\n",
    "    if (ga==a) and (gb==b) and (gc==c):\n",
    "        break\n",
    "    \n"
   ]
  },
  {
   "cell_type": "markdown",
   "metadata": {},
   "source": [
    "3\\.please try using Python's Tkinter to make a visual interface（GUI）.if you don't know anything.Maybe you can refer to the below interface.and implement it by code.\n",
    "\n",
    "<div style=\"float:left;\" ><img src=\"img/p2.png\" width=\"200\" height=\"200\" >"
   ]
  },
  {
   "cell_type": "code",
   "execution_count": 4,
   "metadata": {},
   "outputs": [],
   "source": [
    "## write your answer here!\n",
    "import tkinter\n",
    "tk = tkinter.Tk()\n",
    "first = ['C','pyhton','php','html','SQL','java']\n",
    "second = ['CSS','jQuery','Bootstrap']\n",
    "\n",
    "list1 = tkinter.Listbox(tk)\n",
    "list2 = tkinter.Listbox(tk)         # 列表框控件；在Listbox窗口小部件是用来显示一个字符串列表给用户\n",
    "\n",
    "for item in first:                 # 第一个小部件插入数据\n",
    "    list1.insert(0,item)\n",
    "for item in second:              # 第二个小部件插入数据\n",
    "    list2.insert(0,item)\n",
    "    \n",
    "list1.pack()                    \n",
    "list2.pack()                    # 将小部件放置到主窗口中\n",
    "tk.mainloop()                    # 消息循环"
   ]
  },
  {
   "cell_type": "markdown",
   "metadata": {},
   "source": [
    "4\\.Through the initial trial of Tkinter,    please write a simple calculator.\n",
    "\n",
    "<div style=\"float:left;\" ><img src=\"img/p3.png\" width=\"180\" height=\"200\" center=\"left\"></div>\n",
    "<div style=\"float:left;\" ><img src=\"img/p4.png\" width=\"180\" height=\"200\" center=\"right\" ></div>"
   ]
  },
  {
   "cell_type": "code",
   "execution_count": 160,
   "metadata": {},
   "outputs": [],
   "source": [
    "## write your answer here!\n",
    "import tkinter\n",
    "\n",
    "root=tkinter.Tk()\n",
    "root.title('calculator')\n",
    "\n",
    "global store, vartext, result, symbol\n",
    "result = symbol = None\n",
    "vartext = tkinter.StringVar()\n",
    "store = []\n",
    "\n",
    "class keyboard:\n",
    "    global store, vartext, result, symbol\n",
    "    def __init__(self,key):\n",
    "        self.key = key\n",
    "    def jia(self):\n",
    "        store.append(self.key)\n",
    "        vartext.set( ''.join(store))\n",
    "    def retreat(self):\n",
    "        store.pop()\n",
    "        vartext.set(''.join(store))\n",
    "    def clear(self):\n",
    "        store.clear()\n",
    "        vartext.set('')\n",
    "        result = None\n",
    "        symbol = None\n",
    "    def sign(self):\n",
    "        if store[0]:\n",
    "            if store[0] == '-':\n",
    "                store[0] = '+'\n",
    "            elif store[0] == '+':\n",
    "                store[0] = '-'\n",
    "            else:\n",
    "                store.insert(0, '-')\n",
    "        vartext.set(''.join(store))\n",
    "    def point(self):\n",
    "        if store.count('.') >= 1:\n",
    "            pass\n",
    "        else:\n",
    "            if store == [] :\n",
    "                store.append('0')\n",
    "            store.append('.')\n",
    "            vartext.set(''.join(store))\n",
    "            \n",
    "    def cal(self):\n",
    "        global store, vartext, result, symbol\n",
    "        if vartext.get() == '':\n",
    "            pass\n",
    "        else:\n",
    "            get1 = decimal.Decimal(vartext.get())\n",
    "            if  self.key in ('+','-','*','/','='):\n",
    "                if symbol is not None:\n",
    "                    get1 = decimal.Decimal(result)\n",
    "                    get2 = decimal.Decimal(vartext.get())\n",
    "                    if symbol == '+':\n",
    "                        result = get1 + get2\n",
    "                    elif symbol == '-':\n",
    "                        result = get1 - get2\n",
    "                    elif symbol == '*':\n",
    "                        result = get1 * get2\n",
    "                    elif symbol == '/':\n",
    "                        result = get1 / get2\n",
    "                else:\n",
    "                    result = get1\n",
    "                    \n",
    "                if self.key == '=':\n",
    "                    symbol = None\n",
    "                else:\n",
    "                    symbol = self.key\n",
    "            \n",
    "            vartext.set(str(result))\n",
    "            store.clear()\n",
    "\n",
    "def layout(root):\n",
    "    global cuncu, vartext, result, symbol\n",
    "    entry1 = tkinter.Label(root, width=20, height=2, bg='yellow', anchor='se', textvariable=vartext)\n",
    "    entry1.grid(row=0, columnspan=5)\n",
    "    \n",
    "    button_C = tkinter.Button(root,text=' C ', width=5, command=keyboard('c').clear)\n",
    "    button_sign = tkinter.Button(root,text='±', width=5, command=keyboard('c').sign)\n",
    "    button_retreat = tkinter.Button(root,text='←', width=5, command=keyboard('c').retreat)\n",
    "    button_CE = tkinter.Button(root, text='CE', width=5)\n",
    "    button_C.grid(row=1, column=0)\n",
    "    button_sign.grid(row=1, column=1)\n",
    "    button_retreat.grid(row=1, column=2)\n",
    "    button_CE.grid(row=1, column=3)\n",
    "    \n",
    "    button1 = tkinter.Button(root, text=' 1 ', width=5, command=keyboard('1').jia)\n",
    "    button2 = tkinter.Button(root, text=' 2 ', width=5, command=keyboard('2').jia)\n",
    "    button3 = tkinter.Button(root, text=' 3 ', width=5, command=keyboard('3').jia)\n",
    "    button4 = tkinter.Button(root, text=' 4 ', width=5, command=keyboard('4').jia)\n",
    "    button1.grid(row=2, column=0)\n",
    "    button2.grid(row=2, column=1)\n",
    "    button3.grid(row=2, column=2)\n",
    "    button4.grid(row=2, column=3)\n",
    "    \n",
    "    button5 = tkinter.Button(root,text=' 5 ', width=5, command=keyboard('5').jia)\n",
    "    button6 = tkinter.Button(root,text=' 6 ', width=5, command=keyboard('6').jia)\n",
    "    button7 = tkinter.Button(root,text=' 7 ', width=5, command=keyboard('7').jia)\n",
    "    button8 = tkinter.Button(root,text=' 8 ', width=5, command=keyboard('8').jia)\n",
    "    button5.grid(row=3, column=0)\n",
    "    button6.grid(row=3, column=1)\n",
    "    button7.grid(row=3, column=2)\n",
    "    button8.grid(row=3, column=3)\n",
    "    \n",
    "    button_point = tkinter.Button(root,text=' . ', width=5, command=keyboard('c').point)\n",
    "    button9 = tkinter.Button(root, text=' 9 ', width=5, command=keyboard('9').jia)\n",
    "    button0 = tkinter.Button(root, text=' 0 ', width=5, command=keyboard('0').jia)\n",
    "    button_equal = tkinter.Button(root, text=' = ', width=5, command=keyboard('=').cal)\n",
    "    button_point.grid(row=4, column=0)\n",
    "    button9.grid(row=4, column=1)\n",
    "    button0.grid(row=4, column=2)\n",
    "    button_equal.grid(row=4, column=3)\n",
    "    \n",
    "    button_add = tkinter.Button(root,text=' + ', width=5, command=keyboard('+').cal)\n",
    "    button_sub = tkinter.Button(root, text=' - ', width=5, command=keyboard('-').cal)\n",
    "    button_mul = tkinter.Button(root,text=' * ', width=5, command=keyboard('*').cal)\n",
    "    button_div = tkinter.Button(root, text=' / ', width=5, command=keyboard('/').cal)\n",
    "    button_add.grid(row=5, column=0)\n",
    "    button_sub.grid(row=5, column=1)\n",
    "    button_mul.grid(row=5, column=2)\n",
    "    button_div.grid(row=5, column=3)\n",
    "\n",
    "layout(root)\n",
    "root.mainloop()\n"
   ]
  },
  {
   "cell_type": "markdown",
   "metadata": {},
   "source": [
    "5\\.Ball game:Python's pinball game, which can realize the game function of the keyboard control bottom baffle moving collision ball similar to table tennis game. \n",
    "\n",
    "<div style=\"float:left;\" ><img src=\"img/p5.png\" width=\"200\" height=\"200\" center=\"left\"></div>\n",
    "<div style=\"float:left;\" ><img src=\"img/p6.png\" width=\"200\" height=\"200\" center=\"right\" ></div>\n"
   ]
  },
  {
   "cell_type": "markdown",
   "metadata": {},
   "source": [
    "this is a step:how to install the matplotlib,you can reference this link:https://blog.csdn.net/not_give_up_/article/details/79058272\n",
    "1. Ball Class\n",
    "    draw is responsible for moving Ball\n",
    "    Collision detection, bounce, Ball detection of Paddle \n",
    "2. Paddle Class\n",
    "    draw is responsible for moving Paddle\n",
    "    Collision detection to determine whether or not to continue ,Monitor keyboard events\n",
    "3. main cycle\n",
    "    Drawing the Ball and Paddle"
   ]
  },
  {
   "cell_type": "code",
   "execution_count": 3,
   "metadata": {},
   "outputs": [],
   "source": [
    "## write your answer here!\n",
    "from tkinter import*\n",
    "import matplotlib\n",
    "matplotlib.use('Agg')\n",
    "import random\n",
    "import time\n",
    "class Ball:\n",
    "    def __init__(self, canvas, paddle, color):\n",
    "        self.canvas = canvas\n",
    "        self.paddle = paddle\n",
    "        self.id = canvas.create_oval(10, 10, 25, 25, fill=color)\n",
    "        self.canvas.move(self.id, 245, 100)\n",
    "        startx = [-3, -2, -1, 1, 2, 3]\n",
    "        random.shuffle(startx)\n",
    "        self.x = startx[0]\n",
    "        self.y = -3\n",
    "        self.canvas_height = self.canvas.winfo_height()\n",
    "        self.canvas_width = self.canvas.winfo_width()\n",
    "        self.hit_bottom = False\n",
    "    def draw(self):\n",
    "        self.canvas.move(self.id, self.x, self.y)\n",
    "        pos = self.canvas.coords(self.id)#top-left bottom-right\n",
    "        if (pos[1] <= 0 or self.hit_paddle(pos) == True):\n",
    "            self.y = -self.y\n",
    "        if (pos[0] <= 0 or pos[2] >= self.canvas_width):\n",
    "            self.x = -self.x\n",
    "        if (pos[3] >= self.canvas_height):\n",
    "            self.hit_bottom = True\n",
    "    def hit_paddle(self, pos):\n",
    "        paddle_pos = self.canvas.coords(self.paddle.id)\n",
    "        if (pos[2] >= paddle_pos[0] and pos[0] <= paddle_pos[2]):\n",
    "            if (pos[3] >= paddle_pos[1] and pos[3] <= paddle_pos[3]):\n",
    "                return True\n",
    "        return False\n",
    "class Paddle:\n",
    "    def __init__(self, canvas, color):\n",
    "        self.canvas = canvas\n",
    "        self.id = canvas.create_rectangle(0, 0, 100, 10, fill = color)\n",
    "        self.x = 0\n",
    "        self.canvas.move(self.id, 200, 300)\n",
    "        self.canvas_width = self.canvas.winfo_width()\n",
    "        self.canvas.bind_all(\"<Key-Left>\", self.turn_left)\n",
    "        self.canvas.bind_all(\"<Key-Right>\", self.turn_right)\n",
    "    def draw(self):\n",
    "        pos = self.canvas.coords(self.id)\n",
    "        if (pos[0] + self.x >= 0 and pos[2] + self.x <= self.canvas_width):\n",
    "            self.canvas.move(self.id, self.x, 0)\n",
    "        #self.x = 0\n",
    "    def turn_left(self, event):\n",
    "        self.x = -4\n",
    "    def turn_right(self, event):\n",
    "        self.x = 4\n",
    "tk = Tk()\n",
    "tk.title(\"Game\")\n",
    "tk.resizable(0, 0)#not resizable\n",
    "tk.wm_attributes(\"-topmost\", 1)#at top\n",
    "canvas = Canvas(tk, width = 500, height = 500, bd = 0, highlightthickness = 0)\n",
    "canvas.pack()\n",
    "tk.update()#init\n",
    "paddle = Paddle(canvas, 'blue')\n",
    "ball = Ball(canvas, paddle, 'red')\n",
    "while 1:\n",
    "    if (ball.hit_bottom == False):\n",
    "        ball.draw()\n",
    "        paddle.draw()\n",
    "        tk.update_idletasks()\n",
    "        tk.update()\n",
    "        time.sleep(0.01)\n",
    "    else:\n",
    "        break\n"
   ]
  },
  {
   "cell_type": "code",
   "execution_count": null,
   "metadata": {},
   "outputs": [],
   "source": []
  }
 ],
 "metadata": {
  "kernelspec": {
   "display_name": "Python 3",
   "language": "python",
   "name": "python3"
  },
  "language_info": {
   "codemirror_mode": {
    "name": "ipython",
    "version": 3
   },
   "file_extension": ".py",
   "mimetype": "text/x-python",
   "name": "python",
   "nbconvert_exporter": "python",
   "pygments_lexer": "ipython3",
   "version": "3.6.5"
  }
 },
 "nbformat": 4,
 "nbformat_minor": 2
}
